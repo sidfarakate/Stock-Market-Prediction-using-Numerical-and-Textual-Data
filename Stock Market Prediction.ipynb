{
 "cells": [
  {
   "cell_type": "markdown",
   "id": "55ac0085",
   "metadata": {},
   "source": [
    " # <center> Stock Market Prediction using Numerical and Textual Analysis </center>"
   ]
  },
  {
   "attachments": {
    "Global_market_news_1677551630092_1677551630274_1677551630274.webp": {
     "image/webp": "[encoded data removed]"
    }
   },
   "cell_type": "markdown",
   "id": "81993fa5",
   "metadata": {},
   "source": [
    "![Global_market_news_1677551630092_1677551630274_1677551630274.webp](attachment:Global_market_news_1677551630092_1677551630274_1677551630274.webp)"
   ]
  },
  {
   "cell_type": "markdown",
   "id": "b01243fc",
   "metadata": {},
   "source": [
    "### Data Source: \n",
    "\n",
    "`Historical stock prices`: https://finance.yahoo.com <br>\n",
    "`textual (news) data`: https://bit.ly/36fFPI6 \n",
    "\n",
    "\n",
    "Yahoo Finance is a website that provides financial news and data, including historical stock prices and financial statements. The historical stock data includes information on prices, dividends and market data for various stocks and indices. <br>\n",
    "\n",
    "`Number of Observations`: 6307 <br>\n",
    "`Timespan`: July 1997 - Feb 2023 <br>\n",
    "`Number of Attributes/Columns`: 7 \n",
    "\n",
    "\n",
    "### Attribute Information:\n",
    "\n",
    "##### Table: Historical Data\n",
    "\n",
    "- `Date`: The date of the stock price or market data. <br>\n",
    "- `Open`: The opening price of the stock on that day. <br>\n",
    "- `High`: The highest price the stock reached on that day. <br>\n",
    "- `Low`: The lowest price the stock reached on that day. <br>\n",
    "- `Close`: The closing price of the stock on that day. <br>\n",
    "- `Adj Close`: The adjusted closing price of the stock, taking into account any dividends, stock splits, and other corporate actions. <br>\n",
    "- `Volume`: The number of shares traded on that day. <br>\n",
    "\n",
    "\n",
    "\n",
    "##### Table:  Textual Data\n",
    "- `Publish Date`: The date when the news headline was published. \n",
    "- `Headline Category`: The category of the news headline. \n",
    "- `Headline Text`: The text of the news headline. This column contains the actual headlines.\n",
    "\n",
    "\n",
    "### Objective:\n",
    "Create a hybrid model for stock price/performance prediction using numerical analysis of historical stock prices, and sentimental analysis of news headlines\n",
    "\n"
   ]
  },
  {
   "cell_type": "markdown",
   "id": "cb190fc0",
   "metadata": {},
   "source": [
    "## 1.Loading the Data"
   ]
  },
  {
   "cell_type": "code",
   "execution_count": 1,
   "id": "3a06d62f",
   "metadata": {},
   "outputs": [
    {
     "name": "stdout",
     "output_type": "stream",
     "text": [
      "[*********************100%***********************]  1 of 1 completed\n"
     ]
    }
   ],
   "source": [
    "import yfinance as yf\n",
    "import pandas as pd\n",
    "data = yf.download('^BSESN')"
   ]
  },
  {
   "cell_type": "code",
   "execution_count": 2,
   "id": "5f417068",
   "metadata": {},
   "outputs": [
    {
     "data": {
      "text/html": [
       "<div>\n",
       "<style scoped>\n",
       "    .dataframe tbody tr th:only-of-type {\n",
       "        vertical-align: middle;\n",
       "    }\n",
       "\n",
       "    .dataframe tbody tr th {\n",
       "        vertical-align: top;\n",
       "    }\n",
       "\n",
       "    .dataframe thead th {\n",
       "        text-align: right;\n",
       "    }\n",
       "</style>\n",
       "<table border=\"1\" class=\"dataframe\">\n",
       "  <thead>\n",
       "    <tr style=\"text-align: right;\">\n",
       "      <th></th>\n",
       "      <th>Date</th>\n",
       "      <th>Open</th>\n",
       "      <th>High</th>\n",
       "      <th>Low</th>\n",
       "      <th>Close</th>\n",
       "      <th>Adj Close</th>\n",
       "      <th>Volume</th>\n",
       "    </tr>\n",
       "  </thead>\n",
       "  <tbody>\n",
       "    <tr>\n",
       "      <th>486</th>\n",
       "      <td>1999-07-01 00:00:00+05:30</td>\n",
       "      <td>4156.620117</td>\n",
       "      <td>4186.350098</td>\n",
       "      <td>4120.729980</td>\n",
       "      <td>4144.520020</td>\n",
       "      <td>4144.520020</td>\n",
       "      <td>0</td>\n",
       "    </tr>\n",
       "    <tr>\n",
       "      <th>2616</th>\n",
       "      <td>2008-01-21 00:00:00+05:30</td>\n",
       "      <td>18919.570312</td>\n",
       "      <td>18919.570312</td>\n",
       "      <td>16951.500000</td>\n",
       "      <td>17605.349609</td>\n",
       "      <td>17605.349609</td>\n",
       "      <td>35800</td>\n",
       "    </tr>\n",
       "    <tr>\n",
       "      <th>3791</th>\n",
       "      <td>2012-11-05 00:00:00+05:30</td>\n",
       "      <td>18749.369141</td>\n",
       "      <td>18794.630859</td>\n",
       "      <td>18683.250000</td>\n",
       "      <td>18762.869141</td>\n",
       "      <td>18762.869141</td>\n",
       "      <td>5600</td>\n",
       "    </tr>\n",
       "    <tr>\n",
       "      <th>1840</th>\n",
       "      <td>2004-12-06 00:00:00+05:30</td>\n",
       "      <td>6351.040039</td>\n",
       "      <td>6386.290039</td>\n",
       "      <td>6312.129883</td>\n",
       "      <td>6322.500000</td>\n",
       "      <td>6322.500000</td>\n",
       "      <td>18800</td>\n",
       "    </tr>\n",
       "    <tr>\n",
       "      <th>3608</th>\n",
       "      <td>2012-02-07 00:00:00+05:30</td>\n",
       "      <td>17813.740234</td>\n",
       "      <td>17832.039062</td>\n",
       "      <td>17582.490234</td>\n",
       "      <td>17622.449219</td>\n",
       "      <td>17622.449219</td>\n",
       "      <td>16800</td>\n",
       "    </tr>\n",
       "  </tbody>\n",
       "</table>\n",
       "</div>"
      ],
      "text/plain": [
       "                           Date          Open          High           Low  \\\n",
       "486   1999-07-01 00:00:00+05:30   4156.620117   4186.350098   4120.729980   \n",
       "2616  2008-01-21 00:00:00+05:30  18919.570312  18919.570312  16951.500000   \n",
       "3791  2012-11-05 00:00:00+05:30  18749.369141  18794.630859  18683.250000   \n",
       "1840  2004-12-06 00:00:00+05:30   6351.040039   6386.290039   6312.129883   \n",
       "3608  2012-02-07 00:00:00+05:30  17813.740234  17832.039062  17582.490234   \n",
       "\n",
       "             Close     Adj Close  Volume  \n",
       "486    4144.520020   4144.520020       0  \n",
       "2616  17605.349609  17605.349609   35800  \n",
       "3791  18762.869141  18762.869141    5600  \n",
       "1840   6322.500000   6322.500000   18800  \n",
       "3608  17622.449219  17622.449219   16800  "
      ]
     },
     "execution_count": 2,
     "metadata": {},
     "output_type": "execute_result"
    }
   ],
   "source": [
    "df_hist = pd.read_csv(r'C:\\Users\\SVF\\Desktop\\Stock_Market_Prediction/stock_price.csv')\n",
    "df_hist.sample(5)"
   ]
  },
  {
   "cell_type": "code",
   "execution_count": 3,
   "id": "446e24f1",
   "metadata": {},
   "outputs": [
    {
     "data": {
      "text/html": [
       "<div>\n",
       "<style scoped>\n",
       "    .dataframe tbody tr th:only-of-type {\n",
       "        vertical-align: middle;\n",
       "    }\n",
       "\n",
       "    .dataframe tbody tr th {\n",
       "        vertical-align: top;\n",
       "    }\n",
       "\n",
       "    .dataframe thead th {\n",
       "        text-align: right;\n",
       "    }\n",
       "</style>\n",
       "<table border=\"1\" class=\"dataframe\">\n",
       "  <thead>\n",
       "    <tr style=\"text-align: right;\">\n",
       "      <th></th>\n",
       "      <th>publish_date</th>\n",
       "      <th>headline_category</th>\n",
       "      <th>headline_text</th>\n",
       "    </tr>\n",
       "  </thead>\n",
       "  <tbody>\n",
       "    <tr>\n",
       "      <th>618017</th>\n",
       "      <td>20080913</td>\n",
       "      <td>business.india-business</td>\n",
       "      <td>Banks should display info on websites: RBI</td>\n",
       "    </tr>\n",
       "    <tr>\n",
       "      <th>1539097</th>\n",
       "      <td>20130112</td>\n",
       "      <td>city.kolkata</td>\n",
       "      <td>We are harassed daily: Raja Bazar Science Coll...</td>\n",
       "    </tr>\n",
       "    <tr>\n",
       "      <th>3136657</th>\n",
       "      <td>20190604</td>\n",
       "      <td>city.kochi</td>\n",
       "      <td>Plea seeks contempt action against power depar...</td>\n",
       "    </tr>\n",
       "    <tr>\n",
       "      <th>1786546</th>\n",
       "      <td>20140103</td>\n",
       "      <td>city.kozhikode</td>\n",
       "      <td>Calicut University freezes appointment notific...</td>\n",
       "    </tr>\n",
       "    <tr>\n",
       "      <th>208671</th>\n",
       "      <td>20030507</td>\n",
       "      <td>calcutta-times</td>\n",
       "      <td>John has Aitbaar in himself</td>\n",
       "    </tr>\n",
       "  </tbody>\n",
       "</table>\n",
       "</div>"
      ],
      "text/plain": [
       "         publish_date        headline_category  \\\n",
       "618017       20080913  business.india-business   \n",
       "1539097      20130112             city.kolkata   \n",
       "3136657      20190604               city.kochi   \n",
       "1786546      20140103           city.kozhikode   \n",
       "208671       20030507           calcutta-times   \n",
       "\n",
       "                                             headline_text  \n",
       "618017          Banks should display info on websites: RBI  \n",
       "1539097  We are harassed daily: Raja Bazar Science Coll...  \n",
       "3136657  Plea seeks contempt action against power depar...  \n",
       "1786546  Calicut University freezes appointment notific...  \n",
       "208671                         John has Aitbaar in himself  "
      ]
     },
     "execution_count": 3,
     "metadata": {},
     "output_type": "execute_result"
    }
   ],
   "source": [
    "df_news = pd.read_csv(r'C:\\Users\\SVF\\Desktop\\Stock_Market_Prediction/india-news-headlines.csv')\n",
    "df_news.sample(5)"
   ]
  },
  {
   "cell_type": "markdown",
   "id": "e6a2ec95",
   "metadata": {},
   "source": [
    "## 2.Assessment of the data\n",
    "\n",
    "### Types of Assessment\n",
    "There are 2 types of assessment styles\n",
    "\n",
    "- `Manual` - Looking through the data manually in google sheets\n",
    "- `Programmatic` - By using pandas functions such as info(), describe() or sample()\n",
    "\n",
    "### Steps in Assessment\n",
    "There are 2 steps involved in Assessment\n",
    "\n",
    "- Discover\n",
    "- Document"
   ]
  },
  {
   "cell_type": "markdown",
   "id": "522f2d0c",
   "metadata": {},
   "source": [
    "### Manual Assessment"
   ]
  },
  {
   "cell_type": "code",
   "execution_count": null,
   "id": "5c427993",
   "metadata": {},
   "outputs": [],
   "source": [
    "# export data for manual assessment\n",
    "\n",
    "with pd.ExcelWriter('historical_data.xlsx') as writer:\n",
    "    df_hist.to_excel(writer, sheet_name='historical_data')"
   ]
  },
  {
   "cell_type": "markdown",
   "id": "43f9284c",
   "metadata": {},
   "source": [
    "### Issues with the dataset\n",
    "\n",
    "1. Dirty Data (Data with Quality issues)\n",
    "\n",
    "    Table - `Historical Data`\n",
    "        \n",
    "    - Incorrect data type assigned to Date column. `validity` <br>\n",
    "    \n",
    "   Table - `News Data`\n",
    "        \n",
    "    - Incorrect data type assigned to publish date column. `validity`\n",
    "    - Merge the rows based on publish date.\n",
    "\n",
    "\n",
    "2. Messy Data (Data with Structural/Tidiness issues) <br>\n",
    "    \n",
    "   Table - `Historical Data`\n",
    "        \n",
    "   Table - `News Data`\n",
    "        \n",
    "    - Merge the rows based on publish date."
   ]
  },
  {
   "cell_type": "markdown",
   "id": "d7eee1a0",
   "metadata": {},
   "source": [
    "### Programatic Assessment"
   ]
  },
  {
   "cell_type": "code",
   "execution_count": 4,
   "id": "7a94e02d",
   "metadata": {},
   "outputs": [
    {
     "name": "stdout",
     "output_type": "stream",
     "text": [
      "<class 'pandas.core.frame.DataFrame'>\n",
      "RangeIndex: 6319 entries, 0 to 6318\n",
      "Data columns (total 7 columns):\n",
      " #   Column     Non-Null Count  Dtype  \n",
      "---  ------     --------------  -----  \n",
      " 0   Date       6319 non-null   object \n",
      " 1   Open       6319 non-null   float64\n",
      " 2   High       6319 non-null   float64\n",
      " 3   Low        6319 non-null   float64\n",
      " 4   Close      6319 non-null   float64\n",
      " 5   Adj Close  6319 non-null   float64\n",
      " 6   Volume     6319 non-null   int64  \n",
      "dtypes: float64(5), int64(1), object(1)\n",
      "memory usage: 345.7+ KB\n"
     ]
    }
   ],
   "source": [
    "df_hist.info()"
   ]
  },
  {
   "cell_type": "code",
   "execution_count": 5,
   "id": "858d552c",
   "metadata": {},
   "outputs": [
    {
     "name": "stdout",
     "output_type": "stream",
     "text": [
      "<class 'pandas.core.frame.DataFrame'>\n",
      "RangeIndex: 3650970 entries, 0 to 3650969\n",
      "Data columns (total 3 columns):\n",
      " #   Column             Dtype \n",
      "---  ------             ----- \n",
      " 0   publish_date       int64 \n",
      " 1   headline_category  object\n",
      " 2   headline_text      object\n",
      "dtypes: int64(1), object(2)\n",
      "memory usage: 83.6+ MB\n"
     ]
    }
   ],
   "source": [
    "df_news.info()"
   ]
  },
  {
   "cell_type": "code",
   "execution_count": 6,
   "id": "ff7970b7",
   "metadata": {},
   "outputs": [
    {
     "data": {
      "text/plain": [
       "Date         0\n",
       "Open         0\n",
       "High         0\n",
       "Low          0\n",
       "Close        0\n",
       "Adj Close    0\n",
       "Volume       0\n",
       "dtype: int64"
      ]
     },
     "execution_count": 6,
     "metadata": {},
     "output_type": "execute_result"
    }
   ],
   "source": [
    "# Checking for null values\n",
    "df_hist.isnull().sum()"
   ]
  },
  {
   "cell_type": "code",
   "execution_count": 7,
   "id": "4644246e",
   "metadata": {},
   "outputs": [
    {
     "data": {
      "text/plain": [
       "publish_date         0\n",
       "headline_category    0\n",
       "headline_text        0\n",
       "dtype: int64"
      ]
     },
     "execution_count": 7,
     "metadata": {},
     "output_type": "execute_result"
    }
   ],
   "source": [
    "df_news.isnull().sum()"
   ]
  },
  {
   "cell_type": "code",
   "execution_count": 8,
   "id": "43f1e3c2",
   "metadata": {},
   "outputs": [
    {
     "data": {
      "text/plain": [
       "0"
      ]
     },
     "execution_count": 8,
     "metadata": {},
     "output_type": "execute_result"
    }
   ],
   "source": [
    "# Checking for duplicate data\n",
    "df_hist.duplicated().sum()"
   ]
  },
  {
   "cell_type": "code",
   "execution_count": 9,
   "id": "6367e878",
   "metadata": {},
   "outputs": [
    {
     "data": {
      "text/plain": [
       "24860"
      ]
     },
     "execution_count": 9,
     "metadata": {},
     "output_type": "execute_result"
    }
   ],
   "source": [
    "df_news.duplicated().sum()"
   ]
  },
  {
   "cell_type": "code",
   "execution_count": 10,
   "id": "1b68fdd3",
   "metadata": {},
   "outputs": [
    {
     "data": {
      "text/html": [
       "<div>\n",
       "<style scoped>\n",
       "    .dataframe tbody tr th:only-of-type {\n",
       "        vertical-align: middle;\n",
       "    }\n",
       "\n",
       "    .dataframe tbody tr th {\n",
       "        vertical-align: top;\n",
       "    }\n",
       "\n",
       "    .dataframe thead th {\n",
       "        text-align: right;\n",
       "    }\n",
       "</style>\n",
       "<table border=\"1\" class=\"dataframe\">\n",
       "  <thead>\n",
       "    <tr style=\"text-align: right;\">\n",
       "      <th></th>\n",
       "      <th>Open</th>\n",
       "      <th>High</th>\n",
       "      <th>Low</th>\n",
       "      <th>Close</th>\n",
       "      <th>Adj Close</th>\n",
       "      <th>Volume</th>\n",
       "    </tr>\n",
       "  </thead>\n",
       "  <tbody>\n",
       "    <tr>\n",
       "      <th>count</th>\n",
       "      <td>6319.000000</td>\n",
       "      <td>6319.000000</td>\n",
       "      <td>6319.000000</td>\n",
       "      <td>6319.000000</td>\n",
       "      <td>6319.000000</td>\n",
       "      <td>6.319000e+03</td>\n",
       "    </tr>\n",
       "    <tr>\n",
       "      <th>mean</th>\n",
       "      <td>19778.088662</td>\n",
       "      <td>19895.365503</td>\n",
       "      <td>19623.441374</td>\n",
       "      <td>19758.166873</td>\n",
       "      <td>19758.166873</td>\n",
       "      <td>6.347530e+04</td>\n",
       "    </tr>\n",
       "    <tr>\n",
       "      <th>std</th>\n",
       "      <td>15701.002668</td>\n",
       "      <td>15767.390260</td>\n",
       "      <td>15604.557248</td>\n",
       "      <td>15688.010053</td>\n",
       "      <td>15688.010053</td>\n",
       "      <td>9.420558e+05</td>\n",
       "    </tr>\n",
       "    <tr>\n",
       "      <th>min</th>\n",
       "      <td>2621.889893</td>\n",
       "      <td>2682.590088</td>\n",
       "      <td>2594.870117</td>\n",
       "      <td>2600.120117</td>\n",
       "      <td>2600.120117</td>\n",
       "      <td>0.000000e+00</td>\n",
       "    </tr>\n",
       "    <tr>\n",
       "      <th>25%</th>\n",
       "      <td>5100.065186</td>\n",
       "      <td>5145.150146</td>\n",
       "      <td>5048.479980</td>\n",
       "      <td>5102.435059</td>\n",
       "      <td>5102.435059</td>\n",
       "      <td>5.900000e+03</td>\n",
       "    </tr>\n",
       "    <tr>\n",
       "      <th>50%</th>\n",
       "      <td>17117.900391</td>\n",
       "      <td>17218.460938</td>\n",
       "      <td>17000.609375</td>\n",
       "      <td>17105.300781</td>\n",
       "      <td>17105.300781</td>\n",
       "      <td>1.180000e+04</td>\n",
       "    </tr>\n",
       "    <tr>\n",
       "      <th>75%</th>\n",
       "      <td>28250.309570</td>\n",
       "      <td>28383.730469</td>\n",
       "      <td>28080.379883</td>\n",
       "      <td>28223.389648</td>\n",
       "      <td>28223.389648</td>\n",
       "      <td>1.860000e+04</td>\n",
       "    </tr>\n",
       "    <tr>\n",
       "      <th>max</th>\n",
       "      <td>63357.988281</td>\n",
       "      <td>63583.070312</td>\n",
       "      <td>63183.769531</td>\n",
       "      <td>63284.191406</td>\n",
       "      <td>63284.191406</td>\n",
       "      <td>3.181510e+07</td>\n",
       "    </tr>\n",
       "  </tbody>\n",
       "</table>\n",
       "</div>"
      ],
      "text/plain": [
       "               Open          High           Low         Close     Adj Close  \\\n",
       "count   6319.000000   6319.000000   6319.000000   6319.000000   6319.000000   \n",
       "mean   19778.088662  19895.365503  19623.441374  19758.166873  19758.166873   \n",
       "std    15701.002668  15767.390260  15604.557248  15688.010053  15688.010053   \n",
       "min     2621.889893   2682.590088   2594.870117   2600.120117   2600.120117   \n",
       "25%     5100.065186   5145.150146   5048.479980   5102.435059   5102.435059   \n",
       "50%    17117.900391  17218.460938  17000.609375  17105.300781  17105.300781   \n",
       "75%    28250.309570  28383.730469  28080.379883  28223.389648  28223.389648   \n",
       "max    63357.988281  63583.070312  63183.769531  63284.191406  63284.191406   \n",
       "\n",
       "             Volume  \n",
       "count  6.319000e+03  \n",
       "mean   6.347530e+04  \n",
       "std    9.420558e+05  \n",
       "min    0.000000e+00  \n",
       "25%    5.900000e+03  \n",
       "50%    1.180000e+04  \n",
       "75%    1.860000e+04  \n",
       "max    3.181510e+07  "
      ]
     },
     "execution_count": 10,
     "metadata": {},
     "output_type": "execute_result"
    }
   ],
   "source": [
    "df_hist.describe()"
   ]
  },
  {
   "cell_type": "code",
   "execution_count": 11,
   "id": "724fa171",
   "metadata": {},
   "outputs": [],
   "source": [
    "# Change the data type of Date Column\n",
    "df_hist['Date'] = pd.to_datetime(df_hist['Date']).dt.date\n",
    "df_hist['Date'] = df_hist['Date'].astype('datetime64[ns]')"
   ]
  },
  {
   "cell_type": "code",
   "execution_count": 12,
   "id": "f3b72978",
   "metadata": {},
   "outputs": [],
   "source": [
    "# Change the data type of publish date Column\n",
    "df_news['Date'] = pd.to_datetime(df_news['publish_date'], format='%Y%m%d')"
   ]
  },
  {
   "cell_type": "code",
   "execution_count": 13,
   "id": "e8662594",
   "metadata": {},
   "outputs": [],
   "source": [
    "# Drop the headline_category column\n",
    "df_news.drop(['publish_date', 'headline_category'], axis = 1, inplace=True)"
   ]
  },
  {
   "cell_type": "markdown",
   "id": "f4eb08b7",
   "metadata": {},
   "source": [
    "## 3. EDA "
   ]
  },
  {
   "cell_type": "code",
   "execution_count": 14,
   "id": "12ae9132",
   "metadata": {},
   "outputs": [
    {
     "data": {
      "image/png": "[encoded data removed]",
      "text/plain": [
       "<Figure size 2000x1000 with 1 Axes>"
      ]
     },
     "metadata": {},
     "output_type": "display_data"
    }
   ],
   "source": [
    "import matplotlib.pyplot as plt\n",
    "import seaborn as sns\n",
    "\n",
    "# Plot of the close price\n",
    "plt.figure(figsize=(20,10))\n",
    "df_hist['Close'].plot()\n",
    "\n",
    "plt.grid()\n",
    "plt.ylabel('Close')\n",
    "plt.show()"
   ]
  },
  {
   "cell_type": "code",
   "execution_count": 15,
   "id": "3b2a36c6",
   "metadata": {},
   "outputs": [
    {
     "data": {
      "image/png": "[encoded data removed]",
      "text/plain": [
       "<Figure size 2000x1000 with 1 Axes>"
      ]
     },
     "metadata": {},
     "output_type": "display_data"
    }
   ],
   "source": [
    "#Plot moving average\n",
    "close = df_hist['Close']\n",
    "\n",
    "moov_avg = close.rolling(window = 50).mean()\n",
    "moov_std = close.rolling(window = 50).std()\n",
    "\n",
    "plt.figure(figsize=(20,10))\n",
    "df_hist['Close'].plot(color='y',label='Close')\n",
    "moov_avg.plot(color = 'r',label='Rolling Mean')\n",
    "moov_std.plot(color = 'b', label = 'Rolling Standard Deviation')\n",
    "\n",
    "plt.legend()\n",
    "plt.grid()\n",
    "plt.show()"
   ]
  },
  {
   "cell_type": "markdown",
   "id": "6957d091",
   "metadata": {},
   "source": [
    "## 4. Pre-processing"
   ]
  },
  {
   "cell_type": "code",
   "execution_count": 16,
   "id": "4610e173",
   "metadata": {},
   "outputs": [
    {
     "data": {
      "text/plain": [
       "0          Status quo will not be disturbed at Ayodhya; s...\n",
       "1                        Fissures in Hurriyat over Pak visit\n",
       "2                      America's unwanted heading for India?\n",
       "3                         For bigwigs; it is destination Goa\n",
       "4                       Extra buses to clear tourist traffic\n",
       "                                 ...                        \n",
       "3650965    J&K sacks 2 cops; 3 other employees over terro...\n",
       "3650966    Ranbir Kapoor says 'Rishi Kapoor enjoyed his a...\n",
       "3650967    As Covid-19 cases drop to nil in southern dist...\n",
       "3650968    Tamil Nadu sees marginal rise of Covid cases w...\n",
       "3650969    Tamil Nadu sees marginal rise of Covid cases w...\n",
       "Name: headline_text, Length: 3650970, dtype: object"
      ]
     },
     "execution_count": 16,
     "metadata": {},
     "output_type": "execute_result"
    }
   ],
   "source": [
    "df_news['headline_text']"
   ]
  },
  {
   "cell_type": "code",
   "execution_count": 17,
   "id": "688d1679",
   "metadata": {},
   "outputs": [
    {
     "name": "stderr",
     "output_type": "stream",
     "text": [
      "100%|█████████████████████████████████████████████████████████████████████| 3650970/3650970 [01:04<00:00, 56689.81it/s]\n"
     ]
    }
   ],
   "source": [
    "# preprocessing of the headline_text column\n",
    "import re\n",
    "from tqdm import tqdm\n",
    "from nltk.corpus import stopwords\n",
    "from nltk.stem.porter import PorterStemmer\n",
    "s = PorterStemmer()\n",
    "\n",
    "res = []\n",
    "for i in tqdm(range(0, len(df_news['headline_text']))):\n",
    "    news = re.sub('[^a-zA-Z]', ' ', df_news['headline_text'][i])\n",
    "    news = news.lower()\n",
    "    res.append(news)"
   ]
  },
  {
   "cell_type": "code",
   "execution_count": 18,
   "id": "c0e649e8",
   "metadata": {},
   "outputs": [
    {
     "data": {
      "text/html": [
       "<div>\n",
       "<style scoped>\n",
       "    .dataframe tbody tr th:only-of-type {\n",
       "        vertical-align: middle;\n",
       "    }\n",
       "\n",
       "    .dataframe tbody tr th {\n",
       "        vertical-align: top;\n",
       "    }\n",
       "\n",
       "    .dataframe thead th {\n",
       "        text-align: right;\n",
       "    }\n",
       "</style>\n",
       "<table border=\"1\" class=\"dataframe\">\n",
       "  <thead>\n",
       "    <tr style=\"text-align: right;\">\n",
       "      <th></th>\n",
       "      <th>headline_text</th>\n",
       "      <th>Date</th>\n",
       "    </tr>\n",
       "  </thead>\n",
       "  <tbody>\n",
       "    <tr>\n",
       "      <th>2990058</th>\n",
       "      <td>men spar over tazia  one killed</td>\n",
       "      <td>2018-09-23</td>\n",
       "    </tr>\n",
       "    <tr>\n",
       "      <th>1928327</th>\n",
       "      <td>ndmc extends taj mansingh s lease again by six...</td>\n",
       "      <td>2014-07-25</td>\n",
       "    </tr>\n",
       "    <tr>\n",
       "      <th>2671325</th>\n",
       "      <td>pune municipal bonds debut on bse  naidu terms...</td>\n",
       "      <td>2017-06-23</td>\n",
       "    </tr>\n",
       "    <tr>\n",
       "      <th>1255264</th>\n",
       "      <td>pil seeks stopping of grants to english medium...</td>\n",
       "      <td>2011-11-30</td>\n",
       "    </tr>\n",
       "    <tr>\n",
       "      <th>3240966</th>\n",
       "      <td>new year s eve in lucknow comes at a premium</td>\n",
       "      <td>2019-12-31</td>\n",
       "    </tr>\n",
       "    <tr>\n",
       "      <th>2013763</th>\n",
       "      <td>jk rowling s inspiration behind harry potter</td>\n",
       "      <td>2014-11-25</td>\n",
       "    </tr>\n",
       "    <tr>\n",
       "      <th>3196516</th>\n",
       "      <td>no plan to ban single use plastic  govt says</td>\n",
       "      <td>2019-10-02</td>\n",
       "    </tr>\n",
       "    <tr>\n",
       "      <th>3281766</th>\n",
       "      <td>woman seeks relief for husband who went missin...</td>\n",
       "      <td>2020-03-21</td>\n",
       "    </tr>\n",
       "    <tr>\n",
       "      <th>2911896</th>\n",
       "      <td>kiese thelin misses sitter as sweden are held ...</td>\n",
       "      <td>2018-06-03</td>\n",
       "    </tr>\n",
       "    <tr>\n",
       "      <th>956399</th>\n",
       "      <td>encounter with naxals in dantewada over</td>\n",
       "      <td>2010-08-04</td>\n",
       "    </tr>\n",
       "  </tbody>\n",
       "</table>\n",
       "</div>"
      ],
      "text/plain": [
       "                                             headline_text       Date\n",
       "2990058                    men spar over tazia  one killed 2018-09-23\n",
       "1928327  ndmc extends taj mansingh s lease again by six... 2014-07-25\n",
       "2671325  pune municipal bonds debut on bse  naidu terms... 2017-06-23\n",
       "1255264  pil seeks stopping of grants to english medium... 2011-11-30\n",
       "3240966       new year s eve in lucknow comes at a premium 2019-12-31\n",
       "2013763       jk rowling s inspiration behind harry potter 2014-11-25\n",
       "3196516       no plan to ban single use plastic  govt says 2019-10-02\n",
       "3281766  woman seeks relief for husband who went missin... 2020-03-21\n",
       "2911896  kiese thelin misses sitter as sweden are held ... 2018-06-03\n",
       "956399             encounter with naxals in dantewada over 2010-08-04"
      ]
     },
     "execution_count": 18,
     "metadata": {},
     "output_type": "execute_result"
    }
   ],
   "source": [
    "df_news['headline_text'] = pd.Series(res)\n",
    "df_news.sample(10)"
   ]
  },
  {
   "cell_type": "code",
   "execution_count": 19,
   "id": "7ce26ed9",
   "metadata": {},
   "outputs": [
    {
     "data": {
      "text/html": [
       "<div>\n",
       "<style scoped>\n",
       "    .dataframe tbody tr th:only-of-type {\n",
       "        vertical-align: middle;\n",
       "    }\n",
       "\n",
       "    .dataframe tbody tr th {\n",
       "        vertical-align: top;\n",
       "    }\n",
       "\n",
       "    .dataframe thead th {\n",
       "        text-align: right;\n",
       "    }\n",
       "</style>\n",
       "<table border=\"1\" class=\"dataframe\">\n",
       "  <thead>\n",
       "    <tr style=\"text-align: right;\">\n",
       "      <th></th>\n",
       "      <th>headline_text</th>\n",
       "      <th>Date</th>\n",
       "    </tr>\n",
       "  </thead>\n",
       "  <tbody>\n",
       "    <tr>\n",
       "      <th>0</th>\n",
       "      <td>status quo will not be disturbed at ayodhya  s...</td>\n",
       "      <td>2001-01-02</td>\n",
       "    </tr>\n",
       "    <tr>\n",
       "      <th>1</th>\n",
       "      <td>powerless north india gropes in the dark think...</td>\n",
       "      <td>2001-01-03</td>\n",
       "    </tr>\n",
       "    <tr>\n",
       "      <th>2</th>\n",
       "      <td>the string that pulled stephen hawking to indi...</td>\n",
       "      <td>2001-01-04</td>\n",
       "    </tr>\n",
       "    <tr>\n",
       "      <th>3</th>\n",
       "      <td>light combat craft takes india into club class...</td>\n",
       "      <td>2001-01-05</td>\n",
       "    </tr>\n",
       "    <tr>\n",
       "      <th>4</th>\n",
       "      <td>light combat craft takes india into club class...</td>\n",
       "      <td>2001-01-06</td>\n",
       "    </tr>\n",
       "    <tr>\n",
       "      <th>...</th>\n",
       "      <td>...</td>\n",
       "      <td>...</td>\n",
       "    </tr>\n",
       "    <tr>\n",
       "      <th>7712</th>\n",
       "      <td>playing a dead man in body god meant sitting i...</td>\n",
       "      <td>2022-03-27</td>\n",
       "    </tr>\n",
       "    <tr>\n",
       "      <th>7713</th>\n",
       "      <td>as fashion becomes democratic  demand for styl...</td>\n",
       "      <td>2022-03-28</td>\n",
       "    </tr>\n",
       "    <tr>\n",
       "      <th>7714</th>\n",
       "      <td>bobby deol  like my dad  i hope to be working ...</td>\n",
       "      <td>2022-03-29</td>\n",
       "    </tr>\n",
       "    <tr>\n",
       "      <th>7715</th>\n",
       "      <td>i will not give in to trends  dossmode the tim...</td>\n",
       "      <td>2022-03-30</td>\n",
       "    </tr>\n",
       "    <tr>\n",
       "      <th>7716</th>\n",
       "      <td>shashank goes back to coastal karnataka and mo...</td>\n",
       "      <td>2022-03-31</td>\n",
       "    </tr>\n",
       "  </tbody>\n",
       "</table>\n",
       "<p>7717 rows × 2 columns</p>\n",
       "</div>"
      ],
      "text/plain": [
       "                                          headline_text       Date\n",
       "0     status quo will not be disturbed at ayodhya  s... 2001-01-02\n",
       "1     powerless north india gropes in the dark think... 2001-01-03\n",
       "2     the string that pulled stephen hawking to indi... 2001-01-04\n",
       "3     light combat craft takes india into club class... 2001-01-05\n",
       "4     light combat craft takes india into club class... 2001-01-06\n",
       "...                                                 ...        ...\n",
       "7712  playing a dead man in body god meant sitting i... 2022-03-27\n",
       "7713  as fashion becomes democratic  demand for styl... 2022-03-28\n",
       "7714  bobby deol  like my dad  i hope to be working ... 2022-03-29\n",
       "7715  i will not give in to trends  dossmode the tim... 2022-03-30\n",
       "7716  shashank goes back to coastal karnataka and mo... 2022-03-31\n",
       "\n",
       "[7717 rows x 2 columns]"
      ]
     },
     "execution_count": 19,
     "metadata": {},
     "output_type": "execute_result"
    }
   ],
   "source": [
    "# Grouping/Merging the rows based on publish date\n",
    "df_news['headline_text'] = df_news.groupby(['Date']).transform(lambda x : ' '.join(x)) \n",
    "df_news = df_news.drop_duplicates() \n",
    "df_news.reset_index(inplace = True, drop = True)\n",
    "df_news"
   ]
  },
  {
   "cell_type": "markdown",
   "id": "8090afb4",
   "metadata": {},
   "source": [
    "### 4.1 Calculating Subjectivity and Polarity scores"
   ]
  },
  {
   "cell_type": "code",
   "execution_count": null,
   "id": "2d2e0ab6",
   "metadata": {},
   "outputs": [],
   "source": [
    "from textblob import TextBlob\n",
    "\n",
    "def cal_subjectivity(text):\n",
    "    return TextBlob(text).sentiment.subjectivity\n",
    "\n",
    "def cal_polarity(text):\n",
    "    return  TextBlob(text).sentiment.polarity\n",
    "\n",
    "df_news['Subjectivity'] = df_news['headline_text'].apply(cal_subjectivity)\n",
    "df_news['Polarity'] = df_news['headline_text'].apply(cal_polarity)"
   ]
  },
  {
   "cell_type": "markdown",
   "id": "4ad8fe4e",
   "metadata": {},
   "source": [
    "### 4.2 Sentimental Analysis on the headline_text"
   ]
  },
  {
   "cell_type": "code",
   "execution_count": null,
   "id": "b9424897",
   "metadata": {},
   "outputs": [],
   "source": [
    "from nltk.sentiment.vader import SentimentIntensityAnalyzer\n",
    "s = SentimentIntensityAnalyzer()\n",
    "\n",
    "df_news['Compound'] = [s.polarity_scores(i)['compound'] for i in df_news['headline_text']]\n",
    "df_news['Negative'] = [s.polarity_scores(i)['neg'] for i in df_news['headline_text']]\n",
    "df_news['Neutral'] = [s.polarity_scores(i)['neu'] for i in df_news['headline_text']]\n",
    "df_news['Positive'] = [s.polarity_scores(i)['pos'] for i in df_news['headline_text']]"
   ]
  },
  {
   "cell_type": "markdown",
   "id": "d5452a91",
   "metadata": {},
   "source": [
    "### 4.3 Merge the Historical and Text Data"
   ]
  },
  {
   "cell_type": "code",
   "execution_count": null,
   "id": "65f111bd",
   "metadata": {},
   "outputs": [],
   "source": [
    "df_merge = pd.merge(df_hist, df_news, how='inner', on='Date')\n",
    "df_merge.sample(5)"
   ]
  },
  {
   "cell_type": "code",
   "execution_count": null,
   "id": "f032c818",
   "metadata": {},
   "outputs": [],
   "source": [
    "# Saving the data in csv file\n",
    "df_merge.to_csv('df_merge.csv')"
   ]
  },
  {
   "cell_type": "markdown",
   "id": "e0aaaf5f",
   "metadata": {},
   "source": [
    "### 5. Pre-Modelling"
   ]
  },
  {
   "cell_type": "code",
   "execution_count": 20,
   "id": "17df3ff5",
   "metadata": {},
   "outputs": [],
   "source": [
    "df_merge = pd.read_csv(r'C:\\Users\\SVF\\Desktop\\Stock_Market_Prediction/df_merge.csv')"
   ]
  },
  {
   "cell_type": "code",
   "execution_count": 21,
   "id": "37f32052",
   "metadata": {},
   "outputs": [
    {
     "data": {
      "text/html": [
       "<div>\n",
       "<style scoped>\n",
       "    .dataframe tbody tr th:only-of-type {\n",
       "        vertical-align: middle;\n",
       "    }\n",
       "\n",
       "    .dataframe tbody tr th {\n",
       "        vertical-align: top;\n",
       "    }\n",
       "\n",
       "    .dataframe thead th {\n",
       "        text-align: right;\n",
       "    }\n",
       "</style>\n",
       "<table border=\"1\" class=\"dataframe\">\n",
       "  <thead>\n",
       "    <tr style=\"text-align: right;\">\n",
       "      <th></th>\n",
       "      <th>Close</th>\n",
       "      <th>Subjectivity</th>\n",
       "      <th>Polarity</th>\n",
       "      <th>Compound</th>\n",
       "      <th>Negative</th>\n",
       "      <th>Neutral</th>\n",
       "      <th>Positive</th>\n",
       "    </tr>\n",
       "  </thead>\n",
       "  <tbody>\n",
       "    <tr>\n",
       "      <th>0</th>\n",
       "      <td>4018.879883</td>\n",
       "      <td>0.286859</td>\n",
       "      <td>0.14359</td>\n",
       "      <td>-0.9792</td>\n",
       "      <td>0.121</td>\n",
       "      <td>0.809</td>\n",
       "      <td>0.071</td>\n",
       "    </tr>\n",
       "  </tbody>\n",
       "</table>\n",
       "</div>"
      ],
      "text/plain": [
       "         Close  Subjectivity  Polarity  Compound  Negative  Neutral  Positive\n",
       "0  4018.879883      0.286859   0.14359   -0.9792     0.121    0.809     0.071"
      ]
     },
     "execution_count": 21,
     "metadata": {},
     "output_type": "execute_result"
    }
   ],
   "source": [
    "df = df_merge[['Close', 'Subjectivity', 'Polarity', 'Compound', 'Negative', 'Neutral', 'Positive' ]]\n",
    "df.head(1)"
   ]
  },
  {
   "cell_type": "code",
   "execution_count": 22,
   "id": "f44d2892",
   "metadata": {},
   "outputs": [
    {
     "data": {
      "text/html": [
       "<div>\n",
       "<style scoped>\n",
       "    .dataframe tbody tr th:only-of-type {\n",
       "        vertical-align: middle;\n",
       "    }\n",
       "\n",
       "    .dataframe tbody tr th {\n",
       "        vertical-align: top;\n",
       "    }\n",
       "\n",
       "    .dataframe thead th {\n",
       "        text-align: right;\n",
       "    }\n",
       "</style>\n",
       "<table border=\"1\" class=\"dataframe\">\n",
       "  <thead>\n",
       "    <tr style=\"text-align: right;\">\n",
       "      <th></th>\n",
       "      <th>Close</th>\n",
       "      <th>Subjectivity</th>\n",
       "      <th>Polarity</th>\n",
       "      <th>Compound</th>\n",
       "      <th>Negative</th>\n",
       "      <th>Neutral</th>\n",
       "      <th>Positive</th>\n",
       "    </tr>\n",
       "  </thead>\n",
       "  <tbody>\n",
       "    <tr>\n",
       "      <th>0</th>\n",
       "      <td>0.023980</td>\n",
       "      <td>0.286859</td>\n",
       "      <td>0.513986</td>\n",
       "      <td>0.010401</td>\n",
       "      <td>0.272523</td>\n",
       "      <td>0.809</td>\n",
       "      <td>0.116776</td>\n",
       "    </tr>\n",
       "    <tr>\n",
       "      <th>1</th>\n",
       "      <td>0.024675</td>\n",
       "      <td>0.392857</td>\n",
       "      <td>0.439935</td>\n",
       "      <td>0.054503</td>\n",
       "      <td>0.351351</td>\n",
       "      <td>0.735</td>\n",
       "      <td>0.179276</td>\n",
       "    </tr>\n",
       "    <tr>\n",
       "      <th>2</th>\n",
       "      <td>0.025610</td>\n",
       "      <td>0.445360</td>\n",
       "      <td>0.445054</td>\n",
       "      <td>0.877194</td>\n",
       "      <td>0.234234</td>\n",
       "      <td>0.792</td>\n",
       "      <td>0.171053</td>\n",
       "    </tr>\n",
       "    <tr>\n",
       "      <th>3</th>\n",
       "      <td>0.026766</td>\n",
       "      <td>0.480553</td>\n",
       "      <td>0.678214</td>\n",
       "      <td>0.993700</td>\n",
       "      <td>0.310811</td>\n",
       "      <td>0.691</td>\n",
       "      <td>0.281250</td>\n",
       "    </tr>\n",
       "    <tr>\n",
       "      <th>4</th>\n",
       "      <td>0.025696</td>\n",
       "      <td>0.400343</td>\n",
       "      <td>0.302819</td>\n",
       "      <td>0.011051</td>\n",
       "      <td>0.272523</td>\n",
       "      <td>0.813</td>\n",
       "      <td>0.108553</td>\n",
       "    </tr>\n",
       "  </tbody>\n",
       "</table>\n",
       "</div>"
      ],
      "text/plain": [
       "      Close  Subjectivity  Polarity  Compound  Negative  Neutral  Positive\n",
       "0  0.023980      0.286859  0.513986  0.010401  0.272523    0.809  0.116776\n",
       "1  0.024675      0.392857  0.439935  0.054503  0.351351    0.735  0.179276\n",
       "2  0.025610      0.445360  0.445054  0.877194  0.234234    0.792  0.171053\n",
       "3  0.026766      0.480553  0.678214  0.993700  0.310811    0.691  0.281250\n",
       "4  0.025696      0.400343  0.302819  0.011051  0.272523    0.813  0.108553"
      ]
     },
     "execution_count": 22,
     "metadata": {},
     "output_type": "execute_result"
    }
   ],
   "source": [
    "# Normalization of the data\n",
    "from sklearn.preprocessing import MinMaxScaler\n",
    "\n",
    "s = MinMaxScaler()\n",
    "ndf = pd.DataFrame(s.fit_transform(df))\n",
    "ndf.index = df.index\n",
    "ndf.columns = df.columns\n",
    "ndf.head()"
   ]
  },
  {
   "cell_type": "code",
   "execution_count": 23,
   "id": "2d0f5602",
   "metadata": {},
   "outputs": [],
   "source": [
    "X = ndf.drop('Close', axis=1)\n",
    "y = ndf['Close']"
   ]
  },
  {
   "cell_type": "code",
   "execution_count": 28,
   "id": "6ec30159",
   "metadata": {},
   "outputs": [
    {
     "name": "stdout",
     "output_type": "stream",
     "text": [
      "(4164, 6) (4164,)\n",
      "(1042, 6) (1042,)\n"
     ]
    }
   ],
   "source": [
    "# Train-Test Split\n",
    "from sklearn.model_selection import train_test_split\n",
    "\n",
    "X_train, X_test, y_train, y_test = train_test_split(X, y, test_size= 0.2, random_state = 42)\n",
    "\n",
    "print(X_train.shape, y_train.shape)\n",
    "print(X_test.shape, y_test.shape)"
   ]
  },
  {
   "cell_type": "markdown",
   "id": "feab7d9e",
   "metadata": {},
   "source": [
    "## 6. Machine Learning Models"
   ]
  },
  {
   "cell_type": "code",
   "execution_count": 27,
   "id": "1cb6e323",
   "metadata": {},
   "outputs": [],
   "source": [
    "from sklearn.tree import DecisionTreeRegressor\n",
    "from sklearn.ensemble import RandomForestRegressor\n",
    "import xgboost\n",
    "from sklearn.metrics import mean_squared_error"
   ]
  },
  {
   "cell_type": "markdown",
   "id": "b318af2d",
   "metadata": {},
   "source": [
    "### 6.1 Decision Tree Regressor "
   ]
  },
  {
   "cell_type": "code",
   "execution_count": 29,
   "id": "9d2bd327",
   "metadata": {},
   "outputs": [],
   "source": [
    "d_t = DecisionTreeRegressor()\n",
    "d_t.fit(X_train, y_train)\n",
    "pred_dt = d_t.predict(X_test)"
   ]
  },
  {
   "cell_type": "code",
   "execution_count": 30,
   "id": "f97620c4",
   "metadata": {},
   "outputs": [
    {
     "name": "stdout",
     "output_type": "stream",
     "text": [
      "Mean Squared Error of Decision Tree Model:  0.04134656828056592\n"
     ]
    }
   ],
   "source": [
    "print('Mean Squared Error of Decision Tree Model: ', mean_squared_error(y_test, pred_dt))"
   ]
  },
  {
   "cell_type": "markdown",
   "id": "ea831db3",
   "metadata": {},
   "source": [
    "### 6.2 Random Forest Regressor"
   ]
  },
  {
   "cell_type": "code",
   "execution_count": 35,
   "id": "627dae45",
   "metadata": {},
   "outputs": [],
   "source": [
    "rf = RandomForestRegressor()\n",
    "rf.fit(X_train, y_train)\n",
    "pred_rf = rf.predict(X_test)"
   ]
  },
  {
   "cell_type": "code",
   "execution_count": 36,
   "id": "4f4bfd8b",
   "metadata": {},
   "outputs": [
    {
     "name": "stdout",
     "output_type": "stream",
     "text": [
      "Mean Squared Error of Random Forest Model:  0.021417118650681403\n"
     ]
    }
   ],
   "source": [
    "print('Mean Squared Error of Random Forest Model: ', mean_squared_error(y_test, pred_rf))"
   ]
  },
  {
   "cell_type": "markdown",
   "id": "df92981c",
   "metadata": {},
   "source": [
    "### 6.3 XGBoost"
   ]
  },
  {
   "cell_type": "code",
   "execution_count": 37,
   "id": "f69bd5fc",
   "metadata": {},
   "outputs": [],
   "source": [
    "xgb = xgboost.XGBRegressor()\n",
    "xgb.fit(X_train, y_train)\n",
    "pred_xgb = xgb.predict(X_test)"
   ]
  },
  {
   "cell_type": "code",
   "execution_count": 38,
   "id": "faccb493",
   "metadata": {},
   "outputs": [
    {
     "name": "stdout",
     "output_type": "stream",
     "text": [
      "Mean Squared Error of XGBoost Model:  0.023573927080170226\n"
     ]
    }
   ],
   "source": [
    "print('Mean Squared Error of XGBoost Model: ', mean_squared_error(y_test, pred_xgb))"
   ]
  },
  {
   "cell_type": "markdown",
   "id": "bd0e8cf0",
   "metadata": {},
   "source": [
    "## 7. Conclusion"
   ]
  },
  {
   "cell_type": "code",
   "execution_count": 44,
   "id": "15dffbdb",
   "metadata": {},
   "outputs": [
    {
     "name": "stdout",
     "output_type": "stream",
     "text": [
      "+---------------+--------+\n",
      "|     Model     |  MSE   |\n",
      "+---------------+--------+\n",
      "| Decision Tree | 0.041  |\n",
      "| Random Forest | 0.021  |\n",
      "|    XGBoost    | 0.0235 |\n",
      "+---------------+--------+\n"
     ]
    }
   ],
   "source": [
    "from prettytable import PrettyTable\n",
    "  \n",
    "Table = PrettyTable([\"Model\", \"MSE\"])\n",
    "  \n",
    "# Add rows\n",
    "Table.add_row([\"Decision Tree\", \"0.041\"])\n",
    "Table.add_row([\"Random Forest\", \"0.021\"])\n",
    "Table.add_row([\"XGBoost\", \"0.0235\"])\n",
    "\n",
    "print(Table)"
   ]
  },
  {
   "cell_type": "markdown",
   "id": "b040c666",
   "metadata": {},
   "source": [
    "From the above results, we can see that Random Forest model performs better than other models."
   ]
  }
 ],
 "metadata": {
  "kernelspec": {
   "display_name": "Python 3 (ipykernel)",
   "language": "python",
   "name": "python3"
  },
  "language_info": {
   "codemirror_mode": {
    "name": "ipython",
    "version": 3
   },
   "file_extension": ".py",
   "mimetype": "text/x-python",
   "name": "python",
   "nbconvert_exporter": "python",
   "pygments_lexer": "ipython3",
   "version": "3.9.13"
  }
 },
 "nbformat": 4,
 "nbformat_minor": 5
}
